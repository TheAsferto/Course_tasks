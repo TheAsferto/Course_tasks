{
 "cells": [
  {
   "cell_type": "code",
   "execution_count": 93,
   "metadata": {
    "collapsed": true
   },
   "outputs": [],
   "source": [
    "def get_popular_name_from_file(filename):\n",
    "    el_from_file = []\n",
    "    with open(filename, encoding='UTF-8') as f:\n",
    "        for line in f:\n",
    "            for item in line.split():\n",
    "                el_from_file.append(item)\n",
    "    names = el_from_file[::2]\n",
    "    dict_names = {}\n",
    "    for name in names:\n",
    "        dict_names[name] = dict_names.get(name, 0) + 1\n",
    "    popular_names = []\n",
    "    for key, value in dict_names.items():\n",
    "        if value == max(dict_names.values()):\n",
    "            popular_names.append(key)\n",
    "    return ', '.join(sorted(popular_names))"
   ]
  },
  {
   "cell_type": "code",
   "execution_count": 92,
   "outputs": [
    {
     "data": {
      "text/plain": "'Владимир'"
     },
     "execution_count": 92,
     "metadata": {},
     "output_type": "execute_result"
    }
   ],
   "source": [
    "# f = open('file.txt', encoding='UTF-8')\n",
    "# print(f.read())\n",
    "#\n",
    "# f.close()\n",
    "\n",
    "get_popular_name_from_file('file.txt')"
   ],
   "metadata": {
    "collapsed": false
   }
  },
  {
   "cell_type": "code",
   "execution_count": 92,
   "outputs": [],
   "source": [],
   "metadata": {
    "collapsed": false
   }
  }
 ],
 "metadata": {
  "kernelspec": {
   "display_name": "Python 3",
   "language": "python",
   "name": "python3"
  },
  "language_info": {
   "codemirror_mode": {
    "name": "ipython",
    "version": 2
   },
   "file_extension": ".py",
   "mimetype": "text/x-python",
   "name": "python",
   "nbconvert_exporter": "python",
   "pygments_lexer": "ipython2",
   "version": "2.7.6"
  }
 },
 "nbformat": 4,
 "nbformat_minor": 0
}
