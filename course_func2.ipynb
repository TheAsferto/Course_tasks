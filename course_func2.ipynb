{
 "cells": [
  {
   "cell_type": "code",
   "execution_count": 115,
   "metadata": {
    "collapsed": true
   },
   "outputs": [],
   "source": [
    "def lists_sum(*args, unique=False):\n",
    "    summ = 0\n",
    "    if unique == False:\n",
    "        for i in args:\n",
    "            summ += sum(i)\n",
    "        return summ\n",
    "    if unique == True:\n",
    "        new_set = set()\n",
    "        for i in args:\n",
    "            new_set.update(tuple(i))\n",
    "        return sum(new_set)"
   ]
  },
  {
   "cell_type": "code",
   "execution_count": 116,
   "outputs": [
    {
     "data": {
      "text/plain": "10"
     },
     "execution_count": 116,
     "metadata": {},
     "output_type": "execute_result"
    }
   ],
   "source": [
    "#lists = [1, 1, 1], [1, 1], [1, 1, 1, 1]\n",
    "#lists = [1, 1, 1], [1, 3], [1, 1, 1, 2]\n",
    "lists = [4, 3, 2, 1], [1, 1, 1], [1, 3], [1, 1, 1, 2]\n",
    "#lists = ['a'], ['b', 'c']\n",
    "\n",
    "lists_sum(*lists, unique=True)"
   ],
   "metadata": {
    "collapsed": false
   }
  }
 ],
 "metadata": {
  "kernelspec": {
   "display_name": "Python 3",
   "language": "python",
   "name": "python3"
  },
  "language_info": {
   "codemirror_mode": {
    "name": "ipython",
    "version": 2
   },
   "file_extension": ".py",
   "mimetype": "text/x-python",
   "name": "python",
   "nbconvert_exporter": "python",
   "pygments_lexer": "ipython2",
   "version": "2.7.6"
  }
 },
 "nbformat": 4,
 "nbformat_minor": 0
}
