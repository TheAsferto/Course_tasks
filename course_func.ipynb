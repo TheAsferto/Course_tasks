{
 "cells": [
  {
   "cell_type": "code",
   "execution_count": 13,
   "metadata": {
    "collapsed": true
   },
   "outputs": [],
   "source": [
    "def gift_count(budget, month, birthdays):\n",
    "    celebrants = {}\n",
    "    for key, value in birthdays.items():\n",
    "        if value.month == month:\n",
    "            celebrants[key] = value\n",
    "    celebrants_sort = sorted(celebrants, key=celebrants.get().day)\n",
    "    list = []\n",
    "    for key, value in celebrants_sort.items():\n",
    "        list.append(f'{key}' + ' (' + datetime.datetime.strftime(value, '%d.%m.%Y') + ')')\n",
    "    str = ', '.join(list)\n",
    "    if celebrants_sort == {}:\n",
    "        return print('В этом месяце нет именинников.')\n",
    "    else:\n",
    "        return print('Именинники в месяце {}: {}. При бюджете {} они получат по {} рублей.'.format(month, str, budget, int(budget/len(list))))"
   ]
  },
  {
   "cell_type": "code",
   "execution_count": 14,
   "outputs": [
    {
     "ename": "TypeError",
     "evalue": "unhashable type: 'dict'",
     "output_type": "error",
     "traceback": [
      "\u001B[1;31m---------------------------------------------------------------------------\u001B[0m",
      "\u001B[1;31mTypeError\u001B[0m                                 Traceback (most recent call last)",
      "Cell \u001B[1;32mIn [14], line 11\u001B[0m\n\u001B[0;32m      3\u001B[0m birthdays \u001B[38;5;241m=\u001B[39m {\n\u001B[0;32m      4\u001B[0m     \u001B[38;5;124m\"\u001B[39m\u001B[38;5;124mИванов Иван Иванович\u001B[39m\u001B[38;5;124m\"\u001B[39m: datetime\u001B[38;5;241m.\u001B[39mdate(\u001B[38;5;241m1989\u001B[39m, \u001B[38;5;241m5\u001B[39m, \u001B[38;5;241m1\u001B[39m),\n\u001B[0;32m      5\u001B[0m     \u001B[38;5;124m\"\u001B[39m\u001B[38;5;124mПетров Петр Петрович\u001B[39m\u001B[38;5;124m\"\u001B[39m: datetime\u001B[38;5;241m.\u001B[39mdate(\u001B[38;5;241m1998\u001B[39m, \u001B[38;5;241m5\u001B[39m, \u001B[38;5;241m6\u001B[39m),\n\u001B[0;32m      6\u001B[0m     \u001B[38;5;124m\"\u001B[39m\u001B[38;5;124mМаксимов Максим Максимович\u001B[39m\u001B[38;5;124m\"\u001B[39m: datetime\u001B[38;5;241m.\u001B[39mdate(\u001B[38;5;241m2002\u001B[39m, \u001B[38;5;241m8\u001B[39m, \u001B[38;5;241m5\u001B[39m),\n\u001B[0;32m      7\u001B[0m     \u001B[38;5;124m'\u001B[39m\u001B[38;5;124mРоманов Роман Романович\u001B[39m\u001B[38;5;124m'\u001B[39m: datetime\u001B[38;5;241m.\u001B[39mdate(\u001B[38;5;241m2002\u001B[39m, \u001B[38;5;241m5\u001B[39m, \u001B[38;5;241m4\u001B[39m)\n\u001B[0;32m      8\u001B[0m }\n\u001B[0;32m      9\u001B[0m \u001B[38;5;66;03m#birthdays = {\"Максимов Максим Максимович\": datetime.date(2002, 8, 5), 'Федотов Федот Федотович': datetime.date(1998, 7, 5)}\u001B[39;00m\n\u001B[1;32m---> 11\u001B[0m \u001B[43mgift_count\u001B[49m\u001B[43m(\u001B[49m\u001B[38;5;241;43m20000\u001B[39;49m\u001B[43m,\u001B[49m\u001B[43m \u001B[49m\u001B[38;5;241;43m5\u001B[39;49m\u001B[43m,\u001B[49m\u001B[43m \u001B[49m\u001B[43mbirthdays\u001B[49m\u001B[43m)\u001B[49m\n",
      "Cell \u001B[1;32mIn [13], line 6\u001B[0m, in \u001B[0;36mgift_count\u001B[1;34m(budget, month, birthdays)\u001B[0m\n\u001B[0;32m      4\u001B[0m     \u001B[38;5;28;01mif\u001B[39;00m value\u001B[38;5;241m.\u001B[39mmonth \u001B[38;5;241m==\u001B[39m month:\n\u001B[0;32m      5\u001B[0m         celebrants[key] \u001B[38;5;241m=\u001B[39m value\n\u001B[1;32m----> 6\u001B[0m celebrants_sort \u001B[38;5;241m=\u001B[39m \u001B[38;5;28msorted\u001B[39m(celebrants, key\u001B[38;5;241m=\u001B[39m\u001B[43mcelebrants\u001B[49m\u001B[38;5;241;43m.\u001B[39;49m\u001B[43mget\u001B[49m\u001B[43m(\u001B[49m\u001B[43mcelebrants\u001B[49m\u001B[43m)\u001B[49m\u001B[38;5;241m.\u001B[39mday)\n\u001B[0;32m      7\u001B[0m \u001B[38;5;28mlist\u001B[39m \u001B[38;5;241m=\u001B[39m []\n\u001B[0;32m      8\u001B[0m \u001B[38;5;28;01mfor\u001B[39;00m key, value \u001B[38;5;129;01min\u001B[39;00m celebrants_sort\u001B[38;5;241m.\u001B[39mitems():\n",
      "\u001B[1;31mTypeError\u001B[0m: unhashable type: 'dict'"
     ]
    }
   ],
   "source": [
    "import datetime as datetime\n",
    "\n",
    "birthdays = {\n",
    "    \"Иванов Иван Иванович\": datetime.date(1989, 5, 1),\n",
    "    \"Петров Петр Петрович\": datetime.date(1998, 5, 6),\n",
    "    \"Максимов Максим Максимович\": datetime.date(2002, 8, 5),\n",
    "    'Романов Роман Романович': datetime.date(2002, 5, 4)\n",
    "}\n",
    "#birthdays = {\"Максимов Максим Максимович\": datetime.date(2002, 8, 5), 'Федотов Федот Федотович': datetime.date(1998, 7, 5)}\n",
    "\n",
    "gift_count(20000, 5, birthdays)\n"
   ],
   "metadata": {
    "collapsed": false
   }
  }
 ],
 "metadata": {
  "kernelspec": {
   "display_name": "Python 3",
   "language": "python",
   "name": "python3"
  },
  "language_info": {
   "codemirror_mode": {
    "name": "ipython",
    "version": 2
   },
   "file_extension": ".py",
   "mimetype": "text/x-python",
   "name": "python",
   "nbconvert_exporter": "python",
   "pygments_lexer": "ipython2",
   "version": "2.7.6"
  }
 },
 "nbformat": 4,
 "nbformat_minor": 0
}
