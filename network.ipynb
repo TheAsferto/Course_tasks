{
 "cells": [
  {
   "cell_type": "code",
   "execution_count": 5,
   "metadata": {
    "collapsed": true
   },
   "outputs": [],
   "source": [
    "import requests\n",
    "import pickle"
   ]
  },
  {
   "cell_type": "code",
   "execution_count": 4,
   "outputs": [
    {
     "name": "stdout",
     "output_type": "stream",
     "text": [
      "{'statistics': [{'id': 1, 'username': 'Bret', 'email': 'Sincere@april.biz', 'posts': 10, 'comments': 0}, {'id': 2, 'username': 'Antonette', 'email': 'Shanna@melissa.tv', 'posts': 10, 'comments': 0}, {'id': 3, 'username': 'Samantha', 'email': 'Nathan@yesenia.net', 'posts': 10, 'comments': 0}, {'id': 4, 'username': 'Karianne', 'email': 'Julianne.OConner@kory.org', 'posts': 10, 'comments': 0}, {'id': 5, 'username': 'Kamren', 'email': 'Lucio_Hettinger@annie.ca', 'posts': 10, 'comments': 0}, {'id': 6, 'username': 'Leopoldo_Corkery', 'email': 'Karley_Dach@jasper.info', 'posts': 10, 'comments': 0}, {'id': 7, 'username': 'Elwyn.Skiles', 'email': 'Telly.Hoeger@billy.biz', 'posts': 10, 'comments': 0}, {'id': 8, 'username': 'Maxime_Nienow', 'email': 'Sherwood@rosamond.me', 'posts': 10, 'comments': 0}, {'id': 9, 'username': 'Delphine', 'email': 'Chaim_McDermott@dana.io', 'posts': 10, 'comments': 0}, {'id': 10, 'username': 'Moriah.Stanton', 'email': 'Rey.Padberg@karina.biz', 'posts': 10, 'comments': 0}]}\n",
      "{'statistics': [{'id': 1, 'username': 'Bret', 'email': 'Sincere@april.biz', 'posts': 10, 'comments': 0}, {'id': 2, 'username': 'Antonette', 'email': 'Shanna@melissa.tv', 'posts': 10, 'comments': 0}, {'id': 3, 'username': 'Samantha', 'email': 'Nathan@yesenia.net', 'posts': 10, 'comments': 0}, {'id': 4, 'username': 'Karianne', 'email': 'Julianne.OConner@kory.org', 'posts': 10, 'comments': 0}, {'id': 5, 'username': 'Kamren', 'email': 'Lucio_Hettinger@annie.ca', 'posts': 10, 'comments': 0}, {'id': 6, 'username': 'Leopoldo_Corkery', 'email': 'Karley_Dach@jasper.info', 'posts': 10, 'comments': 0}, {'id': 7, 'username': 'Elwyn.Skiles', 'email': 'Telly.Hoeger@billy.biz', 'posts': 10, 'comments': 0}, {'id': 8, 'username': 'Maxime_Nienow', 'email': 'Sherwood@rosamond.me', 'posts': 10, 'comments': 0}, {'id': 9, 'username': 'Delphine', 'email': 'Chaim_McDermott@dana.io', 'posts': 10, 'comments': 0}, {'id': 10, 'username': 'Moriah.Stanton', 'email': 'Rey.Padberg@karina.biz', 'posts': 10, 'comments': 0}]}\n"
     ]
    }
   ],
   "source": [
    "users = requests.get('https://jsonplaceholder.typicode.com/users')\n",
    "# print(responce.json())\n",
    "stats = {'statistics': []}\n",
    "for item in users.json():\n",
    "     stats['statistics'].append({\n",
    "         'id': item.get('id'),\n",
    "         'username': item.get('username'),\n",
    "         'email': item.get('email')\n",
    "        }\n",
    "     )\n",
    "# print(stats)\n",
    "posts = requests.get('https://jsonplaceholder.typicode.com/posts')\n",
    "# print(posts.json())\n",
    "for post in posts.json():\n",
    "    for user in stats['statistics']:\n",
    "        if user['id'] == post['userId']:\n",
    "            user['posts'] = user.get('posts', 0) + 1\n",
    "# print(stats)\n",
    "comments = requests.get('https://jsonplaceholder.typicode.com/comments')\n",
    "# print(comments.json())\n",
    "for user in stats['statistics']:\n",
    "    for comment in comments.json():\n",
    "        if user['email'] == comment['email']:\n",
    "            user['comments'] = user.get('comments', 0) + 1\n",
    "        else:\n",
    "            user['comments'] = 0\n",
    "print(stats)\n",
    "print(stats)"
   ],
   "metadata": {
    "collapsed": false
   }
  },
  {
   "cell_type": "code",
   "execution_count": 3,
   "outputs": [],
   "source": [
    "response = requests.post('https://webhook.site/8413c484-483a-42ff-bd3b-171c2dcbbfeb', json=stats)\n",
    "with open(\"solution.pickle\", 'wb') as f:\n",
    "    pickle.dump(response, f)"
   ],
   "metadata": {
    "collapsed": false
   }
  },
  {
   "cell_type": "code",
   "execution_count": 30,
   "outputs": [],
   "source": [],
   "metadata": {
    "collapsed": false
   }
  }
 ],
 "metadata": {
  "kernelspec": {
   "display_name": "Python 3",
   "language": "python",
   "name": "python3"
  },
  "language_info": {
   "codemirror_mode": {
    "name": "ipython",
    "version": 2
   },
   "file_extension": ".py",
   "mimetype": "text/x-python",
   "name": "python",
   "nbconvert_exporter": "python",
   "pygments_lexer": "ipython2",
   "version": "2.7.6"
  }
 },
 "nbformat": 4,
 "nbformat_minor": 0
}
