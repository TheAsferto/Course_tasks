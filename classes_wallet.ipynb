{
 "cells": [
  {
   "cell_type": "code",
   "execution_count": 2,
   "metadata": {
    "collapsed": true
   },
   "outputs": [],
   "source": [
    "class BaseWallet():\n",
    "    def __init__(self, name, amount):\n",
    "        self.name = name\n",
    "        self.amount = amount\n",
    "\n",
    "    def __repr__(self):\n",
    "        return f'{self.__class__.__name__}{self.name, self.amount}'\n",
    "\n",
    "    def __add__(self, other):\n",
    "        if isinstance(other, self.__class__):\n",
    "            new_balance = self.amount + other.amount\n",
    "        elif hasattr(other, 'exchange_rate'):\n",
    "            if other.exchange_rate == 1:\n",
    "                new_balance = self.amount + (other.amount / self.__class__.exchange_rate)\n",
    "            else:\n",
    "                new_balance = self.amount + (other.amount * other.__class__.exchange_rate / self.__class__.exchange_rate)\n",
    "        else:\n",
    "            new_balance = self.amount + float(other)\n",
    "        return self.__class__(self.name, new_balance)\n",
    "\n",
    "    def __radd__(self, other):\n",
    "        return self.__add__(other)\n",
    "\n",
    "    def __sub__(self, other):\n",
    "        if isinstance(other, self.__class__):\n",
    "            new_balance = self.amount - other.amount\n",
    "        elif hasattr(other, 'exchange_rate'):\n",
    "            if other.exchange_rate == 1:\n",
    "                new_balance = self.amount - (other.amount / self.__class__.exchange_rate)\n",
    "            else:\n",
    "                new_balance = self.amount - (other.amount * other.__class__.exchange_rate / self.__class__.exchange_rate)\n",
    "        else:\n",
    "            new_balance = self.amount - float(other)\n",
    "        return self.__class__(self.name, new_balance)\n",
    "\n",
    "    def __rsub__(self, other):\n",
    "        if isinstance(other, self.__class__):\n",
    "            new_balance = self.amount - other.amount\n",
    "        elif hasattr(other, 'exchange_rate'):\n",
    "            if other.exchange_rate == 1:\n",
    "                new_balance = self.amount - (other.amount / self.__class__.exchange_rate)\n",
    "            else:\n",
    "                new_balance = self.amount - (other.amount * other.__class__.exchange_rate / self.__class__.exchange_rate)\n",
    "        else:\n",
    "            new_balance = float(other) - self.amount\n",
    "        return self.__class__(self.name, new_balance)\n",
    "\n",
    "    def __mul__(self, other):\n",
    "        return self.__class__(self.name, self.amount * other)\n",
    "\n",
    "    def __rmul__(self, other):\n",
    "        return self.__mul__(other)\n",
    "\n",
    "    def __truediv__(self, other):\n",
    "        return self.__class__(self.name, self.amount / other)\n",
    "\n",
    "    def __rtruediv__(self, other):\n",
    "        return self.__truediv__(other)\n",
    "\n",
    "    def __eq__(self, other):\n",
    "        if isinstance(other, self.__class__) and (other.amount == self.amount):\n",
    "            return True\n",
    "        else:\n",
    "            return False\n",
    "\n",
    "    def spend_all(self):\n",
    "        if self.amount > 0:\n",
    "            self.amount = 0\n",
    "        return self.__class__(self.name, self.amount)\n",
    "\n",
    "    def to_base(self):\n",
    "        return self.amount * self.__class__.exchange_rate"
   ]
  },
  {
   "cell_type": "code",
   "execution_count": 3,
   "outputs": [],
   "source": [
    "class RubbleWallet(BaseWallet):\n",
    "    exchange_rate = 1\n",
    "    def __init__(self, name, amount):\n",
    "        super().__init__(name, amount)\n",
    "\n",
    "    def __str__(self):\n",
    "        return f'Rubble Wallet {self.name} {self.amount}'"
   ],
   "metadata": {
    "collapsed": false
   }
  },
  {
   "cell_type": "code",
   "execution_count": 4,
   "outputs": [],
   "source": [
    "class DollarWallet(BaseWallet):\n",
    "    exchange_rate = 60\n",
    "    def __init__(self, name, amount):\n",
    "        super().__init__(name, amount)\n",
    "\n",
    "    def __str__(self):\n",
    "        return f'Dollar Wallet {self.name} {self.amount}'"
   ],
   "metadata": {
    "collapsed": false
   }
  },
  {
   "cell_type": "code",
   "execution_count": 5,
   "outputs": [],
   "source": [
    "class EuroWallet(BaseWallet):\n",
    "    exchange_rate = 70\n",
    "    def __init__(self, name, amount):\n",
    "        super().__init__(name, amount)\n",
    "\n",
    "    def __str__(self):\n",
    "        return f'Euro Wallet {self.name} {self.amount}'"
   ],
   "metadata": {
    "collapsed": false
   }
  },
  {
   "cell_type": "code",
   "execution_count": 7,
   "outputs": [
    {
     "data": {
      "text/plain": "RubbleWallet('A', -80.0)"
     },
     "execution_count": 7,
     "metadata": {},
     "output_type": "execute_result"
    }
   ],
   "source": [
    "20 - RubbleWallet('A', 100)\n",
    "# print(20 - RubbleWallet('A', 100))"
   ],
   "metadata": {
    "collapsed": false
   }
  },
  {
   "cell_type": "code",
   "execution_count": 6,
   "outputs": [],
   "source": [],
   "metadata": {
    "collapsed": false
   }
  }
 ],
 "metadata": {
  "kernelspec": {
   "display_name": "Python 3",
   "language": "python",
   "name": "python3"
  },
  "language_info": {
   "codemirror_mode": {
    "name": "ipython",
    "version": 2
   },
   "file_extension": ".py",
   "mimetype": "text/x-python",
   "name": "python",
   "nbconvert_exporter": "python",
   "pygments_lexer": "ipython2",
   "version": "2.7.6"
  }
 },
 "nbformat": 4,
 "nbformat_minor": 0
}
