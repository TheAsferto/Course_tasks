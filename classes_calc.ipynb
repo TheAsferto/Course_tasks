{
 "cells": [
  {
   "cell_type": "code",
   "execution_count": 175,
   "outputs": [],
   "source": [
    "# class Calculator:\n",
    "#     log = {}\n",
    "#     i = 0\n",
    "#     def __init__(self):\n",
    "#         self.clear()\n",
    "#\n",
    "#     def sum(self, a, b):\n",
    "#         self.i += 1\n",
    "#         self.log[self.i] = f'sum({a}, {b}) == {a + b}'\n",
    "#         return a + b\n",
    "#\n",
    "#     def sub(self, a, b):\n",
    "#         self.i += 1\n",
    "#         self.log[self.i] = f'sub({a}, {b}) == {a - b}'\n",
    "#         return a - b\n",
    "#\n",
    "#     def mul(self, a, b):\n",
    "#         self.i += 1\n",
    "#         self.log[self.i] = f'mul({a}, {b}) == {round(a * b, 1)}'\n",
    "#         return round(a * b, 1)\n",
    "#\n",
    "#     def div(self, a, b, mod=False):\n",
    "#         if mod == True:\n",
    "#             self.i += 1\n",
    "#             self.log[self.i] = f'div({a}, {b}) == {a % b}'\n",
    "#             return a % b\n",
    "#         self.i += 1\n",
    "#         self.log[self.i] = f'div({a}, {b}) == {round(a / b, 1)}'\n",
    "#         return round(a / b, 1)\n",
    "#\n",
    "#     def history(self, n):\n",
    "#         if len(self.log) == 1:\n",
    "#             return None\n",
    "#         return self.log[self.i - n + 1]\n",
    "#\n",
    "#     def clear(self):\n",
    "#         self.log = {}\n",
    "#         self.i = 0\n",
    "#         self.log[self.i] = None\n",
    "#\n",
    "#     @property\n",
    "#     def last(self):\n",
    "#         return self.log[self.i]"
   ],
   "metadata": {
    "collapsed": false
   }
  },
  {
   "cell_type": "code",
   "execution_count": 176,
   "outputs": [],
   "source": [
    "class Calculator():\n",
    "    last = ''\n",
    "    def __init__(self):\n",
    "        self.log = []\n",
    "\n",
    "    def sum(self, a, b):\n",
    "        Calculator.last = f'sum({a}, {b}) == {a + b}'\n",
    "        self.log.append(Calculator.last)\n",
    "        return a + b\n",
    "\n",
    "    def sub(self, a, b):\n",
    "        Calculator.last = f'sub({a}, {b}) == {a - b}'\n",
    "        self.log.append(Calculator.last)\n",
    "        return a - b\n",
    "\n",
    "    def mul(self, a, b):\n",
    "        Calculator.last = f'mul({a}, {b}) == {round(a * b, 1)}'\n",
    "        self.log.append(Calculator.last)\n",
    "        return round(a * b, 1)\n",
    "\n",
    "    def div(self, a, b, mod=False):\n",
    "        if mod == True:\n",
    "            Calculator.last = f'div({a}, {b}) == {a % b}'\n",
    "            self.log.append(Calculator.last)\n",
    "            return a % b\n",
    "        Calculator.last = f'div({a}, {b}) == {round(a / b, 1)}'\n",
    "        self.log.append(Calculator.last)\n",
    "        return round(a / b, 1)\n",
    "\n",
    "    def history(self, n):\n",
    "        if len(self.log) == 0:\n",
    "            return None\n",
    "        return self.log[-n]\n",
    "\n",
    "    def clear(self):\n",
    "        self.log = []\n",
    "        Calculator.last = None"
   ],
   "metadata": {
    "collapsed": false
   }
  },
  {
   "cell_type": "code",
   "execution_count": 180,
   "outputs": [
    {
     "data": {
      "text/plain": "'sum(6, 7) == 13'"
     },
     "execution_count": 180,
     "metadata": {},
     "output_type": "execute_result"
    }
   ],
   "source": [
    "var = Calculator()\n",
    "\n",
    "c = Calculator()\n",
    "c2 = Calculator()\n",
    "c.sum(2, 2)\n",
    "c2.sum(1,2)\n",
    "c.mul(5,7)\n",
    "c.div(5,4, mod=True)\n",
    "c.mul(4, 6)\n",
    "c.sum(5, 5)\n",
    "c.sum(1, 4)\n",
    "c2.sum(2, 3)\n",
    "c.div(1, 2)\n",
    "c2.sum(20, 30)\n",
    "c.sum(6, 7)\n",
    "c2.last"
   ],
   "metadata": {
    "collapsed": false
   }
  },
  {
   "cell_type": "code",
   "execution_count": 177,
   "outputs": [],
   "source": [],
   "metadata": {
    "collapsed": false
   }
  }
 ],
 "metadata": {
  "kernelspec": {
   "display_name": "Python 3",
   "language": "python",
   "name": "python3"
  },
  "language_info": {
   "codemirror_mode": {
    "name": "ipython",
    "version": 2
   },
   "file_extension": ".py",
   "mimetype": "text/x-python",
   "name": "python",
   "nbconvert_exporter": "python",
   "pygments_lexer": "ipython2",
   "version": "2.7.6"
  }
 },
 "nbformat": 4,
 "nbformat_minor": 0
}
