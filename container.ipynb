{
 "cells": [
  {
   "cell_type": "code",
   "execution_count": 113,
   "metadata": {
    "collapsed": true
   },
   "outputs": [],
   "source": [
    "class Field(dict):\n",
    "    def get_pattern(self, key):\n",
    "        import re\n",
    "        pattern = re.compile(r'[A-Za-z]\\d+$|\\d+[A-Za-z]$')\n",
    "        if not (isinstance(key, str) or isinstance(key, tuple)):\n",
    "            raise TypeError\n",
    "        elif not re.match(pattern, ''.join(str(i) for i in key)):\n",
    "            raise ValueError\n",
    "        else:\n",
    "            Field.flag = False\n",
    "            if self == {}:\n",
    "                return key\n",
    "            else:\n",
    "                for item in self.keys():\n",
    "                    if (''.join(str(i) for i in item).lower() == ''.join(str(i) for i in key).lower()) or (''.join(str(i) for i in item).lower() == ''.join(str(i) for i in key)[::-1].lower()):\n",
    "                        Field.flag = True\n",
    "                        return item\n",
    "                if Field.flag == False:\n",
    "                    return key\n",
    "\n",
    "    def check_pattern(self, key):\n",
    "        import re\n",
    "        if re.match(re.compile(r'[A-Za-z]\\d+$|\\d+[A-Za-z]$'), ''.join(str(i) for i in key)):\n",
    "            return True\n",
    "\n",
    "    def __missing__(self, key):\n",
    "        return None\n",
    "\n",
    "    def __setitem__(self, key, value):\n",
    "        return super().__setitem__(self.get_pattern(key), value)\n",
    "\n",
    "    def __getitem__(self, key):\n",
    "        return super().__getitem__(self.get_pattern(key))\n",
    "\n",
    "    def __delitem__(self, key):\n",
    "        if self.__getitem__(key):\n",
    "            return super().__delitem__(self.get_pattern(key))\n",
    "        else:\n",
    "            return None\n",
    "\n",
    "    def __setattr__(self, key, value):\n",
    "        if self.check_pattern(key):\n",
    "            return self.__setitem__(key, value)\n",
    "        else:\n",
    "            return super().__setattr__(key, value)\n",
    "\n",
    "    def __getattr__(self, key):\n",
    "        if self.check_pattern(key):\n",
    "            return self.__getitem__(key)\n",
    "        else:\n",
    "            return super().__getattribute__(key)\n",
    "\n",
    "    def __delattr__(self, key):\n",
    "        if self.check_pattern(key):\n",
    "            return self.__delitem__(key)\n",
    "        else:\n",
    "            return super().__delattr__(key)\n",
    "\n",
    "    def __contains__(self, item):\n",
    "        return self[item] != None\n",
    "\n",
    "    def __iter__(self):\n",
    "        return iter(self.values())"
   ]
  },
  {
   "cell_type": "code",
   "execution_count": 114,
   "outputs": [
    {
     "name": "stdout",
     "output_type": "stream",
     "text": [
      "{(1, 'a'): 12, (2, 'a'): 4, ('B', '1'): 4}\n",
      "{(2, 'a'): 4, ('B', '1'): 4}\n",
      "{(2, 'a'): 4, ('B', '1'): 4, 'A1': 123}\n",
      "{('B', '1'): 4, 'A1': 123}\n",
      "{('B', '1'): 4, 'A1': 123}\n"
     ]
    },
    {
     "data": {
      "text/plain": "345"
     },
     "execution_count": 114,
     "metadata": {},
     "output_type": "execute_result"
    }
   ],
   "source": [
    "D = Field()\n",
    "D[1, 'a'] = 1\n",
    "D['a', 1] = 2\n",
    "D['a', '1'] = 3\n",
    "D['1', 'a'] = 4\n",
    "D['1a'] = 5\n",
    "D['a1'] = 6\n",
    "D[1, 'A'] = 7\n",
    "D['A', 1] = 8\n",
    "D['A', '1'] = 9\n",
    "D['1', 'A'] = 10\n",
    "D['1A'] = 11\n",
    "D['A1'] = 12\n",
    "D[2, 'a'] = 1\n",
    "D['a', 2] = 2\n",
    "D['a', '2'] = 3\n",
    "D['2', 'a'] = 4\n",
    "D['B', '1'] = 3\n",
    "D['1', 'b'] = 4\n",
    "# D['A', 3]\n",
    "print(D)\n",
    "del D['A', 1]\n",
    "print(D)\n",
    "\n",
    "D.A1 = 123\n",
    "print(D)\n",
    "del D.A2\n",
    "print(D)\n",
    "del D.A3\n",
    "D.aaa1 = 345\n",
    "print(D)\n",
    "D.aaa1"
   ],
   "metadata": {
    "collapsed": false
   }
  },
  {
   "cell_type": "code",
   "execution_count": 115,
   "outputs": [
    {
     "name": "stdout",
     "output_type": "stream",
     "text": [
      "{'1A': 50, 'D4': 10}\n",
      "{'D4': 10}\n",
      "10\n"
     ]
    },
    {
     "data": {
      "text/plain": "False"
     },
     "execution_count": 115,
     "metadata": {},
     "output_type": "execute_result"
    }
   ],
   "source": [
    "field = Field()\n",
    "field['1A'] = 25\n",
    "field['A1'] = 30\n",
    "field['A', 1] = 20\n",
    "field['a', '1'] = 40\n",
    "field[1, 'a'] = 50\n",
    "field['D4'] = 10\n",
    "print(field)\n",
    "del field['1A']\n",
    "print(field)\n",
    "print(field['D4'])\n",
    "('A', 4) in field"
   ],
   "metadata": {
    "collapsed": false
   }
  },
  {
   "cell_type": "code",
   "execution_count": 116,
   "outputs": [],
   "source": [
    "import re\n",
    "\n",
    "s = '2.5A'\n",
    "\n",
    "pattern = re.compile(r'[A-Za-z]\\d+$|\\d+[A-Za-z]$')\n",
    "if re.match(pattern, s):\n",
    "    print(pattern.findall(s))"
   ],
   "metadata": {
    "collapsed": false
   }
  },
  {
   "cell_type": "code",
   "execution_count": 117,
   "outputs": [
    {
     "data": {
      "text/plain": "'12a'"
     },
     "execution_count": 117,
     "metadata": {},
     "output_type": "execute_result"
    }
   ],
   "source": [
    "a = (1, 2, 'a')\n",
    "''.join(str(i) for i in a)"
   ],
   "metadata": {
    "collapsed": false
   }
  },
  {
   "cell_type": "code",
   "execution_count": 117,
   "outputs": [],
   "source": [],
   "metadata": {
    "collapsed": false
   }
  }
 ],
 "metadata": {
  "kernelspec": {
   "display_name": "Python 3",
   "language": "python",
   "name": "python3"
  },
  "language_info": {
   "codemirror_mode": {
    "name": "ipython",
    "version": 2
   },
   "file_extension": ".py",
   "mimetype": "text/x-python",
   "name": "python",
   "nbconvert_exporter": "python",
   "pygments_lexer": "ipython2",
   "version": "2.7.6"
  }
 },
 "nbformat": 4,
 "nbformat_minor": 0
}
