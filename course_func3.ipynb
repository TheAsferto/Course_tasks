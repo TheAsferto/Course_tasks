{
 "cells": [
  {
   "cell_type": "code",
   "execution_count": 230,
   "metadata": {
    "collapsed": true
   },
   "outputs": [],
   "source": [
    "# def get_balance(name, transactions):\n",
    "#     balance = 0\n",
    "#     flag_list = []\n",
    "#     dict = {}\n",
    "#     for elem in transactions:\n",
    "#         for key, value in elem.items():\n",
    "#             if value == name:\n",
    "#                 flag_list.append(True)\n",
    "#                 break\n",
    "#             else:\n",
    "#                 flag_list.append(False)\n",
    "#                 break\n",
    "#     for i, item in enumerate(flag_list):\n",
    "#         if item == True:\n",
    "#             dict.update(transactions[i])\n",
    "#     for key, value in dict.items():\n",
    "#         if key == 'amount':\n",
    "#             balance = value\n",
    "#     return balance"
   ]
  },
  {
   "cell_type": "code",
   "execution_count": 231,
   "outputs": [],
   "source": [
    "def get_balance(name, transactions):\n",
    "    balance = 0\n",
    "    for dict in transactions:\n",
    "        if dict.get('name') == name:\n",
    "            balance += dict.get('amount')\n",
    "    return balance"
   ],
   "metadata": {
    "collapsed": false
   }
  },
  {
   "cell_type": "code",
   "execution_count": 232,
   "outputs": [],
   "source": [
    "def count_debts(names, amount, transactions):\n",
    "    total = {}\n",
    "    for i, item in enumerate(names):\n",
    "        if get_balance(item, transactions) >= amount:\n",
    "            total[item] = 0\n",
    "        else:\n",
    "            total[item] = amount - get_balance(item, transactions)\n",
    "    return total"
   ],
   "metadata": {
    "collapsed": false
   }
  },
  {
   "cell_type": "code",
   "execution_count": 233,
   "outputs": [
    {
     "data": {
      "text/plain": "1800"
     },
     "execution_count": 233,
     "metadata": {},
     "output_type": "execute_result"
    }
   ],
   "source": [
    "transactions = [\n",
    "    {\"name\": \"Василий\", \"amount\": -500},\n",
    "    {\"name\": \"Петя\", \"amount\": 100},\n",
    "    {\"name\": \"Виталий\", \"amount\": -300},\n",
    "    {\"name\": \"Роман\", \"amount\": -200},\n",
    "    {\"name\": \"Василий\", \"amount\": -300},\n",
    "    {\"name\": \"Василий\", \"amount\": -500},\n",
    "    {\"name\": \"Роман\", \"amount\": 2000},\n",
    "    {\"name\": \"Виталий\", \"amount\": -3000},\n",
    "    {\"name\": \"Виталий\", \"amount\": -3000},\n",
    "]\n",
    "names = [\n",
    "    'Василий',\n",
    "    'Петя',\n",
    "    'Виталий',\n",
    "    'Роман',\n",
    "    'Максим'\n",
    "]\n",
    "amount = 500\n",
    "\n",
    "get_balance('Роман', transactions)"
   ],
   "metadata": {
    "collapsed": false
   }
  },
  {
   "cell_type": "code",
   "execution_count": 234,
   "outputs": [
    {
     "data": {
      "text/plain": "{'Василий': 1800, 'Петя': 400, 'Виталий': 6800, 'Роман': 0, 'Максим': 500}"
     },
     "execution_count": 234,
     "metadata": {},
     "output_type": "execute_result"
    }
   ],
   "source": [
    "count_debts(names, amount, transactions)"
   ],
   "metadata": {
    "collapsed": false
   }
  },
  {
   "cell_type": "code",
   "execution_count": null,
   "outputs": [],
   "source": [],
   "metadata": {
    "collapsed": false
   }
  }
 ],
 "metadata": {
  "kernelspec": {
   "display_name": "Python 3",
   "language": "python",
   "name": "python3"
  },
  "language_info": {
   "codemirror_mode": {
    "name": "ipython",
    "version": 2
   },
   "file_extension": ".py",
   "mimetype": "text/x-python",
   "name": "python",
   "nbconvert_exporter": "python",
   "pygments_lexer": "ipython2",
   "version": "2.7.6"
  }
 },
 "nbformat": 4,
 "nbformat_minor": 0
}
