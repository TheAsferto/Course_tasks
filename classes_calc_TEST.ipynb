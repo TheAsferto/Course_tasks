{
 "cells": [
  {
   "cell_type": "code",
   "execution_count": 18,
   "metadata": {
    "collapsed": true
   },
   "outputs": [],
   "source": [
    "class Calculator:\n",
    "    last = ''\n",
    "\n",
    "    def __init__(self):\n",
    "        self.list = []\n",
    "        self.list2 = []\n",
    "        self.sum_dec = 0\n",
    "        self.sub_dec = 0\n",
    "        self.mul_dec = 0\n",
    "        self.div_dec = 0\n",
    "\n",
    "    def sum(self, a, b):\n",
    "        self.sum_dec = a + b\n",
    "        self.list.append(self.sum_dec)\n",
    "        Calculator.last = 'sum({}, {}) == {}'.format(a, b, self.list[-1])\n",
    "        self.list2.append(Calculator.last)\n",
    "        return self.sum_dec\n",
    "\n",
    "    def sub(self, a, b):\n",
    "        self.sub_dec = a - b\n",
    "        self.list.append(self.sub_dec)\n",
    "        Calculator.last = 'sub({}, {}) == {}'.format(a, b, self.list[-1])\n",
    "        self.list2.append(Calculator.last)\n",
    "        return self.sub_dec\n",
    "\n",
    "    def mul(self, a, b):\n",
    "        self.mul_dec = a * b\n",
    "        self.list.append(self.mul_dec)\n",
    "        Calculator.last = 'mul({}, {}) == {}'.format(a, b, self.list[-1])\n",
    "        self.list2.append(Calculator.last)\n",
    "        return self.mul_dec\n",
    "\n",
    "    def div(self, a, b, mod=False):\n",
    "        if not mod:\n",
    "            self.div_dec = a / b\n",
    "        else:\n",
    "            self.div_dec = a % b\n",
    "        self.list.append(self.div_dec)\n",
    "        Calculator.last = 'div({}, {}) == {}'.format(a, b, self.list[-1])\n",
    "        self.list2.append(Calculator.last)\n",
    "        return self.div_dec\n",
    "\n",
    "    def history(self, n):\n",
    "        if len(self.list) == 0:\n",
    "            self.last = None\n",
    "            self.list2.append(Calculator.last)\n",
    "            return None\n",
    "        return self.list2[-n]\n",
    "\n",
    "    def clear(cls):\n",
    "         Calculator.last = None"
   ]
  },
  {
   "cell_type": "code",
   "execution_count": 25,
   "outputs": [
    {
     "data": {
      "text/plain": "'sum(1, 1) == 2'"
     },
     "execution_count": 25,
     "metadata": {},
     "output_type": "execute_result"
    }
   ],
   "source": [
    "var = Calculator()\n",
    "\n",
    "var.sum(1, 2)\n",
    "var.div(3, 2)\n",
    "var.sub(3, 4)\n",
    "var.mul(2, 2)\n",
    "var.sum(1, 1)\n",
    "var.history(1)"
   ],
   "metadata": {
    "collapsed": false
   }
  },
  {
   "cell_type": "code",
   "execution_count": 19,
   "outputs": [],
   "source": [],
   "metadata": {
    "collapsed": false
   }
  }
 ],
 "metadata": {
  "kernelspec": {
   "display_name": "Python 3",
   "language": "python",
   "name": "python3"
  },
  "language_info": {
   "codemirror_mode": {
    "name": "ipython",
    "version": 2
   },
   "file_extension": ".py",
   "mimetype": "text/x-python",
   "name": "python",
   "nbconvert_exporter": "python",
   "pygments_lexer": "ipython2",
   "version": "2.7.6"
  }
 },
 "nbformat": 4,
 "nbformat_minor": 0
}
