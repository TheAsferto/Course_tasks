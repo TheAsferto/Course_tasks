{
 "cells": [
  {
   "cell_type": "code",
   "execution_count": 71,
   "outputs": [],
   "source": [
    "import inspect\n",
    "import datetime as dt"
   ],
   "metadata": {
    "collapsed": false
   }
  },
  {
   "cell_type": "code",
   "execution_count": 72,
   "outputs": [],
   "source": [
    "def logging_decorator(log):\n",
    "    def decorator(func):\n",
    "        def wrapper(*args, **kwargs):\n",
    "            result = func(*args, **kwargs)\n",
    "            log.append(\n",
    "                {\n",
    "                    'name': func.__name__,\n",
    "                    'arguments': inspect.getcallargs(func, *args, **kwargs),\n",
    "                    'call_time': dt.datetime(2021, 8, 1, 18, 18, 7, 849184),\n",
    "                    'result': result\n",
    "                }\n",
    "            )\n",
    "            return result\n",
    "        return wrapper\n",
    "    return decorator"
   ],
   "metadata": {
    "collapsed": false
   }
  },
  {
   "cell_type": "code",
   "execution_count": 73,
   "metadata": {
    "collapsed": true
   },
   "outputs": [],
   "source": [
    "logger = []"
   ]
  },
  {
   "cell_type": "code",
   "execution_count": 74,
   "outputs": [],
   "source": [
    "@logging_decorator(logger)\n",
    "def usual_func(a, b=2):\n",
    "    return f'{a}{b}'\n",
    "\n",
    "@logging_decorator(logger)\n",
    "def unusual_func(x, y, z):\n",
    "    return x + y + z"
   ],
   "metadata": {
    "collapsed": false
   }
  },
  {
   "cell_type": "code",
   "execution_count": 75,
   "outputs": [
    {
     "data": {
      "text/plain": "6"
     },
     "execution_count": 75,
     "metadata": {},
     "output_type": "execute_result"
    }
   ],
   "source": [
    "usual_func(3)\n",
    "unusual_func(1, 2, 3)"
   ],
   "metadata": {
    "collapsed": false
   }
  },
  {
   "cell_type": "code",
   "execution_count": 76,
   "outputs": [
    {
     "name": "stdout",
     "output_type": "stream",
     "text": [
      "[{'name': 'usual_func', 'arguments': {'a': 3, 'b': 2}, 'call_time': datetime.datetime(2021, 8, 1, 18, 18, 7, 849184), 'result': '32'}, {'name': 'unusual_func', 'arguments': {'x': 1, 'y': 2, 'z': 3}, 'call_time': datetime.datetime(2021, 8, 1, 18, 18, 7, 849184), 'result': 6}]\n"
     ]
    }
   ],
   "source": [
    "print(logger)"
   ],
   "metadata": {
    "collapsed": false
   }
  },
  {
   "cell_type": "code",
   "execution_count": 76,
   "outputs": [],
   "source": [],
   "metadata": {
    "collapsed": false
   }
  }
 ],
 "metadata": {
  "kernelspec": {
   "display_name": "Python 3",
   "language": "python",
   "name": "python3"
  },
  "language_info": {
   "codemirror_mode": {
    "name": "ipython",
    "version": 2
   },
   "file_extension": ".py",
   "mimetype": "text/x-python",
   "name": "python",
   "nbconvert_exporter": "python",
   "pygments_lexer": "ipython2",
   "version": "2.7.6"
  }
 },
 "nbformat": 4,
 "nbformat_minor": 0
}
