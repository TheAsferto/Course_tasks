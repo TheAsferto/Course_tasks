{
 "cells": [
  {
   "cell_type": "code",
   "execution_count": 60,
   "metadata": {
    "collapsed": true
   },
   "outputs": [],
   "source": [
    "import json\n",
    "import yaml"
   ]
  },
  {
   "cell_type": "code",
   "execution_count": 61,
   "outputs": [],
   "source": [
    "# def mean_age(json_string):\n",
    "#     import json\n",
    "#     data = []\n",
    "#     for elem in json_string:\n",
    "#         data.append(elem)\n",
    "#\n",
    "#     print(data)"
   ],
   "metadata": {
    "collapsed": false
   }
  },
  {
   "cell_type": "code",
   "execution_count": 62,
   "outputs": [],
   "source": [
    "def mean_age(json_string):\n",
    "    import json\n",
    "    summ = 0\n",
    "    k = 0\n",
    "    for elem in json.loads(json_string):\n",
    "        k += 1\n",
    "        summ += elem.get('age')\n",
    "    return json.dumps({\"mean_age\": summ/k})"
   ],
   "metadata": {
    "collapsed": false
   }
  },
  {
   "cell_type": "code",
   "execution_count": 63,
   "outputs": [
    {
     "data": {
      "text/plain": "'{\"mean_age\": 32.25}'"
     },
     "execution_count": 63,
     "metadata": {},
     "output_type": "execute_result"
    }
   ],
   "source": [
    "import json\n",
    "\n",
    "j_str = [\n",
    "\t{\n",
    "\t\t\"name\": \"Петр\",\n",
    "\t\t\"surname\": \"Петров\",\n",
    "\t\t\"patronymic\": \"Васильевич\",\n",
    "\t\t\"age\": 23,\n",
    "\t\t\"occupation\": \"ойтишнек\"\n",
    "\t},\n",
    "\t{\n",
    "\t\t\"name\": \"Владимир\",\n",
    "\t\t\"surname\": \"Петров\",\n",
    "\t\t\"patronymic\": \"Васильевич\",\n",
    "\t\t\"age\": 28,\n",
    "\t\t\"occupation\": \"прораб на стройке\"\n",
    "\t},\n",
    "\t{\n",
    "\t\t\"name\": \"Василий\",\n",
    "\t\t\"surname\": \"Петров\",\n",
    "\t\t\"patronymic\": \"Васильевич\",\n",
    "\t\t\"age\": 59,\n",
    "\t\t\"occupation\": \"студент\"\n",
    "\t},\n",
    "\t{\n",
    "\t\t\"name\": \"Эльдар\",\n",
    "\t\t\"surname\": \"Петров\",\n",
    "\t\t\"patronymic\": \"Васильевич\",\n",
    "\t\t\"age\": 19,\n",
    "\t\t\"occupation\": \"преподаватель\"\n",
    "\t}\n",
    "    ]\n",
    "\n",
    "with open('json_string.json', 'w') as f:\n",
    "    f.write(json.dumps(j_str))\n",
    "\n",
    "with open('json_string.json', encoding='UTF-8') as f:\n",
    "\tj_str = f.read()\n",
    "\n",
    "# print(j_str)\n",
    "mean_age(j_str)"
   ],
   "metadata": {
    "collapsed": false
   }
  },
  {
   "cell_type": "code",
   "execution_count": 63,
   "outputs": [],
   "source": [],
   "metadata": {
    "collapsed": false
   }
  }
 ],
 "metadata": {
  "kernelspec": {
   "display_name": "Python 3",
   "language": "python",
   "name": "python3"
  },
  "language_info": {
   "codemirror_mode": {
    "name": "ipython",
    "version": 2
   },
   "file_extension": ".py",
   "mimetype": "text/x-python",
   "name": "python",
   "nbconvert_exporter": "python",
   "pygments_lexer": "ipython2",
   "version": "2.7.6"
  }
 },
 "nbformat": 4,
 "nbformat_minor": 0
}
