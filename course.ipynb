{
 "cells": [
  {
   "cell_type": "code",
   "execution_count": 1,
   "metadata": {
    "collapsed": true
   },
   "outputs": [],
   "source": [
    "a = input()\n",
    "if a == ('привет') or a == ('здравствуйте'):\n",
    "    print('привет')"
   ]
  },
  {
   "cell_type": "code",
   "execution_count": null,
   "outputs": [],
   "source": [
    "a = []\n",
    "sum_chet=[]\n",
    "b=input()\n",
    "while b != \"\":\n",
    "    a.append(b)\n",
    "    b=input()\n",
    "#print(a)\n",
    "for i in range(len(a)):\n",
    "    if int(a[i]) % 2 == 0:\n",
    "        sum_chet.append(int(a[i]))\n",
    "    else: sum_chet.append(0)\n",
    "print(sum(sum_chet))"
   ],
   "metadata": {
    "collapsed": false
   }
  },
  {
   "cell_type": "code",
   "execution_count": 18,
   "outputs": [
    {
     "name": "stdout",
     "output_type": "stream",
     "text": [
      "dklfjbl*dfljdlfk*dfkhjldfdh\n"
     ]
    }
   ],
   "source": [
    "s = input()\n",
    "str = s.split()\n",
    "while '' in str:\n",
    "    str.remove('')\n",
    "print('*'.join(str))"
   ],
   "metadata": {
    "collapsed": false
   }
  },
  {
   "cell_type": "code",
   "execution_count": 2,
   "outputs": [
    {
     "name": "stdout",
     "output_type": "stream",
     "text": [
      "hallo\n",
      "mann\n"
     ]
    }
   ],
   "source": [
    "a = input()\n",
    "b = input()\n",
    "str1 = a.split()\n",
    "for i in range(len(str1)):\n",
    "    if b in str1[i].lower():\n",
    "        print(str1[i])"
   ],
   "metadata": {
    "collapsed": false
   }
  },
  {
   "cell_type": "code",
   "execution_count": null,
   "outputs": [],
   "source": [
    "str = []\n",
    "for i in range(5):\n",
    "    str.append(input())\n",
    "    str[i] = int(str[i])\n",
    "str1 = sorted(str, reverse=True)\n",
    "for each in str1:\n",
    "    print(each)"
   ],
   "metadata": {
    "collapsed": false,
    "pycharm": {
     "is_executing": true
    }
   }
  },
  {
   "cell_type": "code",
   "execution_count": null,
   "outputs": [],
   "source": [
    "str = input().lower()\n",
    "str = str.split(', ')\n",
    "new_str = set(str)\n",
    "print(', '.join(sorted(new_str)))"
   ],
   "metadata": {
    "collapsed": false,
    "pycharm": {
     "is_executing": true
    }
   }
  },
  {
   "cell_type": "code",
   "execution_count": 13,
   "outputs": [
    {
     "name": "stdout",
     "output_type": "stream",
     "text": [
      "asd: 2\n"
     ]
    }
   ],
   "source": [
    "str = input().lower()\n",
    "str = str.split(', ')\n",
    "dict = {}\n",
    "for i, item in enumerate(str):\n",
    "    dict[item] = dict.get(item, 0) + 1\n",
    "#print(dict)\n",
    "dict_reverse = {}\n",
    "for item in dict:\n",
    "    dict_reverse[dict[item]] = item\n",
    "#print(dict_reverse)\n",
    "dict_sort = sorted(dict_reverse, reverse=True)\n",
    "#print(dict_sort)\n",
    "if len(dict_sort) > 3:\n",
    "    for i in range(3):\n",
    "        print(f'{dict_reverse[dict_sort[i]]}: {dict_sort[i]}')\n",
    "else:\n",
    "    for i in range(len(dict_sort)):\n",
    "        print(f'{dict_reverse[dict_sort[i]]}: {dict_sort[i]}')"
   ],
   "metadata": {
    "collapsed": false
   }
  },
  {
   "cell_type": "code",
   "execution_count": 1,
   "outputs": [],
   "source": [
    "import datetime as datetime"
   ],
   "metadata": {
    "collapsed": false
   }
  },
  {
   "cell_type": "code",
   "execution_count": 29,
   "outputs": [
    {
     "name": "stdout",
     "output_type": "stream",
     "text": [
      "2022, 5, 0\n"
     ]
    }
   ],
   "source": [
    "current_date = datetime.datetime.now()\n",
    "print('{}, {}, {}'.format(current_date.year, current_date.day, current_date.fold))"
   ],
   "metadata": {
    "collapsed": false
   }
  },
  {
   "cell_type": "code",
   "execution_count": 12,
   "outputs": [
    {
     "name": "stdout",
     "output_type": "stream",
     "text": [
      "05-12-2022\n"
     ]
    }
   ],
   "source": [
    "import datetime as datetime\n",
    "\n",
    "date = datetime.datetime.strptime(input(), '%d-%m-%Y')\n",
    "print(datetime.datetime.strftime(date - datetime.timedelta(days=date.weekday()), '%d-%m-%Y'))"
   ],
   "metadata": {
    "collapsed": false
   }
  },
  {
   "cell_type": "code",
   "execution_count": 2,
   "outputs": [
    {
     "name": "stdout",
     "output_type": "stream",
     "text": [
      "3\n"
     ]
    }
   ],
   "source": [
    "a = 11\n",
    "b = 7\n",
    "print(a & b)"
   ],
   "metadata": {
    "collapsed": false
   }
  },
  {
   "cell_type": "code",
   "execution_count": null,
   "outputs": [],
   "source": [],
   "metadata": {
    "collapsed": false
   }
  }
 ],
 "metadata": {
  "kernelspec": {
   "display_name": "Python 3",
   "language": "python",
   "name": "python3"
  },
  "language_info": {
   "codemirror_mode": {
    "name": "ipython",
    "version": 2
   },
   "file_extension": ".py",
   "mimetype": "text/x-python",
   "name": "python",
   "nbconvert_exporter": "python",
   "pygments_lexer": "ipython2",
   "version": "2.7.6"
  }
 },
 "nbformat": 4,
 "nbformat_minor": 0
}
