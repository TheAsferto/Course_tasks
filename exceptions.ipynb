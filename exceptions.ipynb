{
 "cells": [
  {
   "cell_type": "code",
   "execution_count": 1,
   "outputs": [],
   "source": [
    "import datetime as dt\n",
    "import json\n",
    "from api import register_booking"
   ],
   "metadata": {
    "collapsed": false
   }
  },
  {
   "cell_type": "code",
   "execution_count": 2,
   "metadata": {
    "collapsed": true
   },
   "outputs": [],
   "source": [
    "class Booking:\n",
    "    def __init__(self, room_name, start, end):\n",
    "        self.room_name = room_name\n",
    "        self.start = start\n",
    "        self.end = end\n",
    "        if end <= start:\n",
    "            raise ValueError\n",
    "\n",
    "    @property\n",
    "    def duration(self):\n",
    "        duration = self.end - self.start\n",
    "        return int(duration.seconds / 60) + duration.seconds % 60\n",
    "\n",
    "    @property\n",
    "    def start_date(self):\n",
    "        return dt.datetime.strftime(self.start, '%Y-%m-%d')\n",
    "\n",
    "    @property\n",
    "    def end_date(self):\n",
    "        return dt.datetime.strftime(self.end, '%Y-%m-%d')\n",
    "\n",
    "    @property\n",
    "    def start_time(self):\n",
    "        return dt.datetime.strftime(self.start, '%H:%M')\n",
    "\n",
    "    @property\n",
    "    def end_time(self):\n",
    "        return dt.datetime.strftime(self.end, '%H:%M')"
   ]
  },
  {
   "cell_type": "code",
   "execution_count": 3,
   "outputs": [],
   "source": [
    "def create_booking(room_name, start, end):\n",
    "    print('Начинаем создание бронирования')\n",
    "    booking = Booking(room_name, start, end)\n",
    "    result_booking = {\n",
    "        'created' : bool,\n",
    "        'msg' : '',\n",
    "        'booking' : {\n",
    "            \"room_name\": booking.room_name,\n",
    "            \"start_date\": booking.start_date,\n",
    "            \"start_time\": booking.start_time,\n",
    "            \"end_date\": booking.end_date,\n",
    "            \"end_time\": booking.end_time,\n",
    "            \"duration\": booking.duration\n",
    "            }\n",
    "    }\n",
    "    try:\n",
    "        register_booking(booking)\n",
    "    except KeyError:\n",
    "        result_booking['created'] = False\n",
    "        result_booking['msg'] = 'Комната не найдена'\n",
    "        return json.dumps(result_booking, indent=4)\n",
    "    else:\n",
    "        if not register_booking(booking):\n",
    "            result_booking['created'] = False\n",
    "            result_booking['msg'] = 'Комната занята'\n",
    "            return json.dumps(result_booking, indent=4)\n",
    "        elif register_booking(booking):\n",
    "            result_booking['created'] = True\n",
    "            result_booking['msg'] = 'Бронирование создано'\n",
    "            return json.dumps(result_booking, indent=4)\n",
    "    finally:\n",
    "        print('Заканчиваем создание бронирования')"
   ],
   "metadata": {
    "collapsed": false
   }
  },
  {
   "cell_type": "code",
   "execution_count": 4,
   "outputs": [
    {
     "name": "stdout",
     "output_type": "stream",
     "text": [
      "Начинаем создание бронирования\n",
      "Заканчиваем создание бронирования\n",
      "{'created': True, 'msg': 'Бронирование создано', 'booking': {'room_name': 'A', 'start_date': '2022-09-01', 'start_time': '14:00', 'end_date': '2022-09-01', 'end_time': '15:15', 'duration': 75}}\n"
     ]
    }
   ],
   "source": [
    "result = create_booking(\n",
    "    'A',\n",
    "    dt.datetime(2022, 9, 1, 14),\n",
    "    dt.datetime(2022, 9, 1, 15, 15)\n",
    ")\n",
    "print(json.loads(result))\n",
    "\n",
    "# A = Booking('A',\n",
    "#     dt.datetime(2022, 9, 1, 14),\n",
    "#     dt.datetime(2022, 9, 1, 15, 15))\n",
    "# print(A.start_time)"
   ],
   "metadata": {
    "collapsed": false
   }
  },
  {
   "cell_type": "code",
   "execution_count": 4,
   "outputs": [],
   "source": [],
   "metadata": {
    "collapsed": false
   }
  }
 ],
 "metadata": {
  "kernelspec": {
   "display_name": "Python 3",
   "language": "python",
   "name": "python3"
  },
  "language_info": {
   "codemirror_mode": {
    "name": "ipython",
    "version": 2
   },
   "file_extension": ".py",
   "mimetype": "text/x-python",
   "name": "python",
   "nbconvert_exporter": "python",
   "pygments_lexer": "ipython2",
   "version": "2.7.6"
  }
 },
 "nbformat": 4,
 "nbformat_minor": 0
}
