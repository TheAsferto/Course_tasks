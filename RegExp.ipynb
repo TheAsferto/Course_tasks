{
 "cells": [
  {
   "cell_type": "code",
   "execution_count": 252,
   "outputs": [],
   "source": [
    "def check_string(str):\n",
    "    import re\n",
    "    phone_num = re.compile(r'(?:\\+[7-8]|[7-8]|)(?:\\s|)(?:\\D\\d|\\d){3}(?:\\D\\s|\\s|)(?:\\D\\d|\\d){7}\\b')\n",
    "    email = re.compile(r'(?:\\w+|[^@])+@\\w+\\.\\w{2,}\\b')\n",
    "    if email.match(str) or phone_num.match(str):\n",
    "        return True\n",
    "    else:\n",
    "        return False"
   ],
   "metadata": {
    "collapsed": false
   }
  },
  {
   "cell_type": "code",
   "execution_count": 253,
   "outputs": [
    {
     "data": {
      "text/plain": "True"
     },
     "execution_count": 253,
     "metadata": {},
     "output_type": "execute_result"
    }
   ],
   "source": [
    "# str = '+7 (916) 000-11-11'\n",
    "str = 'korneyevm2015@yandex.ru'\n",
    "\n",
    "check_string(str)"
   ],
   "metadata": {
    "collapsed": false
   }
  },
  {
   "cell_type": "code",
   "execution_count": 246,
   "outputs": [
    {
     "name": "stdout",
     "output_type": "stream",
     "text": [
      "['+5(916)000-00-00']\n"
     ]
    }
   ],
   "source": [
    "import re\n",
    "test_str = '+5(916)000-00-00'\n",
    "result = re.compile(r'(?:\\D|)(?:\\b|)(?:\\D\\d|\\d){3}(?:\\b|)(?:\\D\\d|\\d){8}')\n",
    "print(result.findall(test_str))"
   ],
   "metadata": {
    "collapsed": false
   }
  },
  {
   "cell_type": "code",
   "execution_count": 247,
   "outputs": [
    {
     "name": "stdout",
     "output_type": "stream",
     "text": [
      "['9160000000']\n",
      "None\n"
     ]
    }
   ],
   "source": [
    "import re\n",
    "test_str = '99160000000'\n",
    "result = re.compile(r'(?:\\D[78]|[78]|)(?:\\s|)(?:\\D\\d|\\d){3}(?:\\D\\s|\\s|)(?:\\D\\d|\\d){7}\\b')\n",
    "print(result.findall(test_str))\n",
    "print(result.match(test_str))"
   ],
   "metadata": {
    "collapsed": false
   }
  },
  {
   "cell_type": "code",
   "execution_count": 1,
   "outputs": [
    {
     "name": "stdout",
     "output_type": "stream",
     "text": [
      "['2015@yandex.ru']\n"
     ]
    }
   ],
   "source": [
    "import re\n",
    "test_str = 'korneyevm@2015@yandex.ru'\n",
    "result = re.compile(r'(?:\\w+|[^@])+@\\w+\\.\\w+\\b')\n",
    "print(result.findall(test_str))"
   ],
   "metadata": {
    "collapsed": false
   }
  },
  {
   "cell_type": "code",
   "execution_count": 248,
   "outputs": [],
   "source": [],
   "metadata": {
    "collapsed": false
   }
  }
 ],
 "metadata": {
  "kernelspec": {
   "display_name": "Python 3",
   "language": "python",
   "name": "python3"
  },
  "language_info": {
   "codemirror_mode": {
    "name": "ipython",
    "version": 2
   },
   "file_extension": ".py",
   "mimetype": "text/x-python",
   "name": "python",
   "nbconvert_exporter": "python",
   "pygments_lexer": "ipython2",
   "version": "2.7.6"
  }
 },
 "nbformat": 4,
 "nbformat_minor": 0
}
